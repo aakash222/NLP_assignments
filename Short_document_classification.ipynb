{
  "nbformat": 4,
  "nbformat_minor": 0,
  "metadata": {
    "accelerator": "GPU",
    "colab": {
      "name": "Doc-classi",
      "provenance": [],
      "collapsed_sections": []
    },
    "kernelspec": {
      "display_name": "Python 3",
      "name": "python3"
    }
  },
  "cells": [
    {
      "cell_type": "markdown",
      "metadata": {
        "id": "PJXS_dx6zVvV"
      },
      "source": [
        "**Short text classification (Customer Reviews)**  \r\n",
        "\r\n",
        "In this assignment our aim is to predict a rating based on a given review. The reviews are text reviews, and the training dataset has been made available in this directory"
      ]
    },
    {
      "cell_type": "markdown",
      "metadata": {
        "id": "phQ4fIInz-co"
      },
      "source": [
        "Pretrained BERT_base is used in this Assignment.\r\n",
        "While trainig, all parameters of bert were kept freezed. "
      ]
    },
    {
      "cell_type": "code",
      "metadata": {
        "colab": {
          "base_uri": "https://localhost:8080/"
        },
        "id": "7Mu_0LGcLa5Q",
        "outputId": "bd7c320c-a717-4655-839a-b89dc678f041"
      },
      "source": [
        "import numpy as np\n",
        "import pandas as pd\n",
        "import nltk\n",
        "import re\n",
        "nltk.download('wordnet')\n",
        "nltk.download('stopwords')"
      ],
      "execution_count": null,
      "outputs": [
        {
          "output_type": "stream",
          "text": [
            "[nltk_data] Downloading package wordnet to /root/nltk_data...\n",
            "[nltk_data]   Unzipping corpora/wordnet.zip.\n",
            "[nltk_data] Downloading package stopwords to /root/nltk_data...\n",
            "[nltk_data]   Unzipping corpora/stopwords.zip.\n"
          ],
          "name": "stdout"
        },
        {
          "output_type": "execute_result",
          "data": {
            "text/plain": [
              "True"
            ]
          },
          "metadata": {
            "tags": []
          },
          "execution_count": 24
        }
      ]
    },
    {
      "cell_type": "code",
      "metadata": {
        "colab": {
          "base_uri": "https://localhost:8080/"
        },
        "id": "C0mWBXW_UJ7-",
        "outputId": "b8d11e96-bca6-47e7-c4ed-f978cd65246c"
      },
      "source": [
        "f = open(\"/content/drive/MyDrive/dlnlp-3/digital_music_5.x.train.txt\")\n",
        "data = []\n",
        "for line in f:\n",
        "  data.append(line)\n",
        "f.close()\n",
        "print(len(data))\n",
        "\n",
        "f = open(\"/content/drive/MyDrive/dlnlp-3/digital_music_5.y.train.txt\")\n",
        "labels = []\n",
        "for line in f:\n",
        "  labels.append(float(line.split(\"\\n\")[0]))\n",
        "f.close()\n",
        "print(len(labels))\n",
        "print(labels[:10])"
      ],
      "execution_count": null,
      "outputs": [
        {
          "output_type": "stream",
          "text": [
            "58235\n",
            "58235\n",
            "[4.0, 5.0, 5.0, 5.0, 5.0, 5.0, 5.0, 5.0, 4.0, 5.0]\n"
          ],
          "name": "stdout"
        }
      ]
    },
    {
      "cell_type": "code",
      "metadata": {
        "colab": {
          "base_uri": "https://localhost:8080/"
        },
        "id": "T82eaYRsnprb",
        "outputId": "4fe7718d-02d4-4aae-800d-f7a008e12592"
      },
      "source": [
        "for i in range(len(labels)):\n",
        "  labels[i]-=1\n",
        "\n",
        "print(labels[:10])"
      ],
      "execution_count": null,
      "outputs": [
        {
          "output_type": "stream",
          "text": [
            "[3.0, 4.0, 4.0, 4.0, 4.0, 4.0, 4.0, 4.0, 3.0, 4.0]\n"
          ],
          "name": "stdout"
        }
      ]
    },
    {
      "cell_type": "code",
      "metadata": {
        "colab": {
          "base_uri": "https://localhost:8080/"
        },
        "id": "Ftl_pHJdcZml",
        "outputId": "9d9143e6-2096-4133-be1f-e63cc1ee1c94"
      },
      "source": [
        "test_size = 0.2\n",
        "from sklearn.model_selection import train_test_split\n",
        "corpus_train, corpus_dev, labels_train, labels_dev = train_test_split(data,labels,test_size=test_size)\n",
        "print(len(corpus_train))\n",
        "print(len(corpus_dev))"
      ],
      "execution_count": null,
      "outputs": [
        {
          "output_type": "stream",
          "text": [
            "46588\n",
            "11647\n"
          ],
          "name": "stdout"
        }
      ]
    },
    {
      "cell_type": "code",
      "metadata": {
        "id": "3NRG9zmY0_5S"
      },
      "source": [
        "##### basic preprocessing for text\n",
        "\n",
        "wpt = nltk.WordPunctTokenizer()\n",
        "stop_words = nltk.corpus.stopwords.words('english')\n",
        "def normalize_document(doc):\n",
        "\n",
        "    # lower case and remove special characters\\whitespaces\n",
        "    doc = re.sub(r'[^a-zA-Z\\s]', '', doc, re.I|re.A)\n",
        "    doc = doc.lower()\n",
        "    doc = doc.strip()\n",
        "    doc = doc.replace('\"',\"\")\n",
        "\n",
        "    # tokenize document\n",
        "    tokens = wpt.tokenize(doc)\n",
        "\n",
        "    # filter stopwords out of document\n",
        "    filtered_tokens = [token for token in tokens if token not in stop_words]\n",
        "\n",
        "    # re-create document from filtered tokens\n",
        "    return \" \".join(filtered_tokens)"
      ],
      "execution_count": null,
      "outputs": []
    },
    {
      "cell_type": "code",
      "metadata": {
        "id": "ppIhYTr--Kgv"
      },
      "source": [
        "pro_corpus_train = [] \n",
        "for doc in corpus_train:\n",
        "  pro_corpus_train.append(normalize_document(doc))\n",
        "\n",
        "pro_corpus_dev = [] \n",
        "for doc in corpus_dev:\n",
        "  pro_corpus_dev.append(normalize_document(doc))\n"
      ],
      "execution_count": null,
      "outputs": []
    },
    {
      "cell_type": "code",
      "metadata": {
        "colab": {
          "base_uri": "https://localhost:8080/"
        },
        "id": "puiO9BCH-x74",
        "outputId": "f8885788-2bcf-4078-877a-2f10918e975d"
      },
      "source": [
        "print(len(pro_corpus_train))\n",
        "print(len(pro_corpus_dev))"
      ],
      "execution_count": null,
      "outputs": [
        {
          "output_type": "stream",
          "text": [
            "46588\n",
            "11647\n"
          ],
          "name": "stdout"
        }
      ]
    },
    {
      "cell_type": "code",
      "metadata": {
        "colab": {
          "base_uri": "https://localhost:8080/",
          "height": 283
        },
        "id": "1bKbMsKE2REz",
        "outputId": "778d68d3-1b85-44e8-c4e3-cde43e0bc985"
      },
      "source": [
        "##### analyzing average length of the documents\n",
        "seq_len = [len(i.split()) for i in pro_corpus_train]\n",
        "\n",
        "pd.Series(seq_len).hist(bins = 15)"
      ],
      "execution_count": null,
      "outputs": [
        {
          "output_type": "execute_result",
          "data": {
            "text/plain": [
              "<matplotlib.axes._subplots.AxesSubplot at 0x7fe2f8429748>"
            ]
          },
          "metadata": {
            "tags": []
          },
          "execution_count": 31
        },
        {
          "output_type": "display_data",
          "data": {
            "image/png": "[encoded data removed]",
            "text/plain": [
              "<Figure size 432x288 with 1 Axes>"
            ]
          },
          "metadata": {
            "tags": []
          }
        }
      ]
    },
    {
      "cell_type": "code",
      "metadata": {
        "colab": {
          "base_uri": "https://localhost:8080/"
        },
        "id": "5lrUPtfG4DM6",
        "outputId": "195d9a86-afa2-4398-a51c-94ed6a6d541f"
      },
      "source": [
        "!pip install transformers"
      ],
      "execution_count": null,
      "outputs": [
        {
          "output_type": "stream",
          "text": [
            "Requirement already satisfied: transformers in /usr/local/lib/python3.6/dist-packages (3.5.1)\n",
            "Requirement already satisfied: packaging in /usr/local/lib/python3.6/dist-packages (from transformers) (20.4)\n",
            "Requirement already satisfied: tqdm>=4.27 in /usr/local/lib/python3.6/dist-packages (from transformers) (4.41.1)\n",
            "Requirement already satisfied: regex!=2019.12.17 in /usr/local/lib/python3.6/dist-packages (from transformers) (2019.12.20)\n",
            "Requirement already satisfied: tokenizers==0.9.3 in /usr/local/lib/python3.6/dist-packages (from transformers) (0.9.3)\n",
            "Requirement already satisfied: sentencepiece==0.1.91 in /usr/local/lib/python3.6/dist-packages (from transformers) (0.1.91)\n",
            "Requirement already satisfied: numpy in /usr/local/lib/python3.6/dist-packages (from transformers) (1.18.5)\n",
            "Requirement already satisfied: sacremoses in /usr/local/lib/python3.6/dist-packages (from transformers) (0.0.43)\n",
            "Requirement already satisfied: protobuf in /usr/local/lib/python3.6/dist-packages (from transformers) (3.12.4)\n",
            "Requirement already satisfied: dataclasses; python_version < \"3.7\" in /usr/local/lib/python3.6/dist-packages (from transformers) (0.8)\n",
            "Requirement already satisfied: filelock in /usr/local/lib/python3.6/dist-packages (from transformers) (3.0.12)\n",
            "Requirement already satisfied: requests in /usr/local/lib/python3.6/dist-packages (from transformers) (2.23.0)\n",
            "Requirement already satisfied: pyparsing>=2.0.2 in /usr/local/lib/python3.6/dist-packages (from packaging->transformers) (2.4.7)\n",
            "Requirement already satisfied: six in /usr/local/lib/python3.6/dist-packages (from packaging->transformers) (1.15.0)\n",
            "Requirement already satisfied: click in /usr/local/lib/python3.6/dist-packages (from sacremoses->transformers) (7.1.2)\n",
            "Requirement already satisfied: joblib in /usr/local/lib/python3.6/dist-packages (from sacremoses->transformers) (0.17.0)\n",
            "Requirement already satisfied: setuptools in /usr/local/lib/python3.6/dist-packages (from protobuf->transformers) (50.3.2)\n",
            "Requirement already satisfied: certifi>=2017.4.17 in /usr/local/lib/python3.6/dist-packages (from requests->transformers) (2020.11.8)\n",
            "Requirement already satisfied: idna<3,>=2.5 in /usr/local/lib/python3.6/dist-packages (from requests->transformers) (2.10)\n",
            "Requirement already satisfied: urllib3!=1.25.0,!=1.25.1,<1.26,>=1.21.1 in /usr/local/lib/python3.6/dist-packages (from requests->transformers) (1.24.3)\n",
            "Requirement already satisfied: chardet<4,>=3.0.2 in /usr/local/lib/python3.6/dist-packages (from requests->transformers) (3.0.4)\n"
          ],
          "name": "stdout"
        }
      ]
    },
    {
      "cell_type": "code",
      "metadata": {
        "id": "luMLvYxm3-Tz"
      },
      "source": [
        "import transformers\n",
        "from transformers import AutoModel, BertTokenizer"
      ],
      "execution_count": null,
      "outputs": []
    },
    {
      "cell_type": "code",
      "metadata": {
        "id": "N9MznOIK4Oqi"
      },
      "source": [
        "bert = AutoModel.from_pretrained('bert-base-uncased')\n",
        "\n",
        "# Load the BERT tokenizer\n",
        "tokenizer = BertTokenizer.from_pretrained('bert-base-uncased')"
      ],
      "execution_count": null,
      "outputs": []
    },
    {
      "cell_type": "code",
      "metadata": {
        "id": "BCt3wC5BY6kO"
      },
      "source": [
        "c=0\n",
        "for param in bert.parameters():\n",
        "  c+=1\n",
        "print(c)"
      ],
      "execution_count": null,
      "outputs": []
    },
    {
      "cell_type": "code",
      "metadata": {
        "id": "8aMneFpP9FwH"
      },
      "source": [
        "\n",
        "# freeze all the parameters\n",
        "for param in bert.parameters():\n",
        "  param.requires_grad = False\n",
        "\n"
      ],
      "execution_count": null,
      "outputs": []
    },
    {
      "cell_type": "code",
      "metadata": {
        "id": "tvYMHckm3s0L"
      },
      "source": [
        "tokens_train = tokenizer.batch_encode_plus(\n",
        "    pro_corpus_train,\n",
        "    padding = True,\n",
        "    max_length = 250,\n",
        "    truncation=True\n",
        ")\n",
        "\n",
        "# tokenize and encode sequences in the validation set\n",
        "tokens_dev = tokenizer.batch_encode_plus(\n",
        "    pro_corpus_dev,\n",
        "    padding = True,\n",
        "    max_length = 250,\n",
        "    truncation=True\n",
        ")"
      ],
      "execution_count": null,
      "outputs": []
    },
    {
      "cell_type": "code",
      "metadata": {
        "id": "xd46j5mu6mP9"
      },
      "source": [
        "import torch\n",
        "import torch.nn as nn\n"
      ],
      "execution_count": null,
      "outputs": []
    },
    {
      "cell_type": "code",
      "metadata": {
        "id": "95jAFtFx6AMr"
      },
      "source": [
        "train_seq = torch.tensor(tokens_train['input_ids'],dtype=torch.int64)\n",
        "train_mask = torch.tensor(tokens_train['attention_mask'],dtype=torch.int64)\n",
        "train_y = torch.tensor(labels_train,dtype=torch.int64)\n",
        "\n",
        "dev_seq = torch.tensor(tokens_dev['input_ids'],dtype=torch.int64)\n",
        "dev_mask = torch.tensor(tokens_dev['attention_mask'],dtype=torch.int64)\n",
        "dev_y = torch.tensor(labels_dev,dtype=torch.int64)"
      ],
      "execution_count": null,
      "outputs": []
    },
    {
      "cell_type": "code",
      "metadata": {
        "colab": {
          "base_uri": "https://localhost:8080/"
        },
        "id": "85wAkgtshgsb",
        "outputId": "1bf1092c-cb4e-47f7-d72d-d9dd4f15b986"
      },
      "source": [
        "print(dev_seq.shape)\n",
        "print(dev_mask.shape)"
      ],
      "execution_count": null,
      "outputs": [
        {
          "output_type": "stream",
          "text": [
            "torch.Size([11647, 250])\n",
            "torch.Size([11647, 250])\n"
          ],
          "name": "stdout"
        }
      ]
    },
    {
      "cell_type": "code",
      "metadata": {
        "id": "MphiWCak5-eY"
      },
      "source": [
        "from torch.utils.data import TensorDataset, DataLoader, RandomSampler, SequentialSampler\n",
        "\n",
        "#define a batch size\n",
        "batch_size = 64\n",
        "\n",
        "# wrap tensors\n",
        "train_data = TensorDataset(train_seq, train_mask, train_y)\n",
        "\n",
        "# sampler for sampling the data during training\n",
        "train_sampler = RandomSampler(train_data)\n",
        "\n",
        "# dataLoader for train set\n",
        "train_dataloader = DataLoader(train_data, sampler=train_sampler, batch_size=batch_size)\n",
        "\n",
        "# wrap tensors\n",
        "dev_data = TensorDataset(dev_seq, dev_mask, dev_y)\n",
        "\n",
        "# sampler for sampling the data during training\n",
        "dev_sampler = SequentialSampler(dev_data)\n",
        "\n",
        "# dataLoader for validation set\n",
        "dev_dataloader = DataLoader(dev_data, sampler = dev_sampler, batch_size=batch_size)"
      ],
      "execution_count": null,
      "outputs": []
    },
    {
      "cell_type": "code",
      "metadata": {
        "colab": {
          "base_uri": "https://localhost:8080/"
        },
        "id": "Di8EfbTr96H4",
        "outputId": "3636e2e6-2a51-4488-e3be-b5213a28261e"
      },
      "source": [
        "print(labels_train[:20])"
      ],
      "execution_count": null,
      "outputs": [
        {
          "output_type": "stream",
          "text": [
            "[3.0, 4.0, 3.0, 4.0, 1.0, 4.0, 3.0, 4.0, 4.0, 4.0, 3.0, 3.0, 3.0, 3.0, 2.0, 4.0, 4.0, 3.0, 4.0, 3.0]\n"
          ],
          "name": "stdout"
        }
      ]
    },
    {
      "cell_type": "code",
      "metadata": {
        "id": "LuouG5XI9o8c"
      },
      "source": [
        "class BERT_Arch(nn.Module):\n",
        "    def __init__(self, bert):\n",
        "      super(BERT_Arch, self).__init__()\n",
        "      self.bert = bert \n",
        "      \n",
        "      # dropout layer\n",
        "      self.dropout = nn.Dropout(0.1)\n",
        "      \n",
        "      # relu activation function\n",
        "      self.relu =  nn.ReLU()\n",
        "\n",
        "      # dense layer 1\n",
        "      self.fc1 = nn.Linear(768,512)\n",
        "      #self.lstm = nn.LSTM(input_size=768, hidden_size=256,batch_first=True)\n",
        "      self.fc2 = nn.Linear(512,64)\n",
        "      \n",
        "      # dense layer 2 (Output layer)\n",
        "      self.out = nn.Linear(64,5)\n",
        "\n",
        "      #softmax activation function\n",
        "      self.softmax = nn.LogSoftmax(dim=1)\n",
        "\n",
        "    #define the forward pass\n",
        "    def forward(self, sent_id, mask):\n",
        "\n",
        "      #pass the inputs to the model  \n",
        "      _, cls_hs = self.bert(sent_id, attention_mask=mask)\n",
        "      \n",
        "      \n",
        "      x = self.relu(self.fc1(cls_hs))\n",
        "      x = self.relu(self.fc2(x))\n",
        "\n",
        "      #x = self.dropout(x)\n",
        "\n",
        "      # output layer\n",
        "      x = self.out(x) \n",
        "      \n",
        "      # apply softmax activation\n",
        "      x = self.softmax(x)\n",
        "\n",
        "      return x"
      ],
      "execution_count": null,
      "outputs": []
    },
    {
      "cell_type": "code",
      "metadata": {
        "id": "3v36x_b8CTXv"
      },
      "source": [
        "model = BERT_Arch(bert)\n",
        "device = torch.device(\"cuda\")\n",
        "# push the model to GPU\n",
        "model = model.to(device)"
      ],
      "execution_count": null,
      "outputs": []
    },
    {
      "cell_type": "code",
      "metadata": {
        "id": "JJJlH43UIGqg"
      },
      "source": [
        "# optimizer from hugging face transformers\n",
        "from transformers import AdamW\n",
        "from babel.dates import format_time\n",
        "import time\n",
        "\n",
        "# define the optimizer\n",
        "optimizer = AdamW(model.parameters(),lr = 5e-4)\n",
        "cross_entropy = nn.CrossEntropyLoss()\n",
        "epochs = 10"
      ],
      "execution_count": null,
      "outputs": []
    },
    {
      "cell_type": "code",
      "metadata": {
        "id": "wov5UoBpIWrz"
      },
      "source": [
        "def train():\n",
        "  \n",
        "  model.train()\n",
        "\n",
        "  total_loss, total_accuracy = 0, 0\n",
        "  '''\n",
        "  # empty list to save model predictions\n",
        "  total_preds=[]'''\n",
        "  \n",
        "  # iterate over batches\n",
        "  for step,batch in enumerate(train_dataloader):\n",
        "\n",
        "    # push the batch to gpu\n",
        "    #batch = [r.to(device) for r in batch]\n",
        "    \n",
        " \n",
        "    sent_id, mask, labels = batch[0].to(device),batch[1].to(device),batch[2].to(device)\n",
        "\n",
        "    # clear previously calculated gradients \n",
        "    model.zero_grad()        \n",
        "\n",
        "    # get model predictions for the current batch\n",
        "    preds = model(sent_id, mask)\n",
        "\n",
        "    # compute the loss between actual and predicted values\n",
        "    loss = cross_entropy(preds, labels)\n",
        "\n",
        "    # clip the the gradients to 1.0. It helps in preventing the exploding gradient problem\n",
        "    #torch.nn.utils.clip_grad_norm_(model.parameters(), 1.0)\n",
        "\n",
        "    # backward pass to calculate the gradients\n",
        "    loss.backward()\n",
        "\n",
        "    torch.nn.utils.clip_grad_norm_(model.parameters(), 1.0)\n",
        "\n",
        "    # update parameters\n",
        "    optimizer.step()\n",
        "\n",
        "    # add on to the total loss\n",
        "    loss_item = loss.item()\n",
        "\n",
        "    # progress update after every 50 batches.\n",
        "    if step % 50 == 0 and not step == 0:\n",
        "      print('  Batch {:>5,}  of  {:>5,}.'.format(step, len(train_dataloader)))\n",
        "      print(\"loss\",loss_item)\n",
        "\n",
        "    total_loss = total_loss + loss_item\n",
        "\n",
        "    '''\n",
        "    # model predictions are stored on GPU. So, push it to CPU\n",
        "    preds=preds.detach().cpu().numpy()\n",
        "\n",
        "    # append the model predictions\n",
        "    total_preds.append(preds)'''\n",
        "\n",
        "  # compute the training loss of the epoch\n",
        "  avg_loss = total_loss / len(train_dataloader)\n",
        "  \n",
        "  # predictions are in the form of (no. of batches, size of batch, no. of classes).\n",
        "  # reshape the predictions in form of (number of samples, no. of classes)\n",
        "  #total_preds  = np.concatenate(total_preds, axis=0)\n",
        "\n",
        "  #returns the loss and predictions\n",
        "  return avg_loss"
      ],
      "execution_count": null,
      "outputs": []
    },
    {
      "cell_type": "code",
      "metadata": {
        "id": "6hrpBVGCMPdB"
      },
      "source": [
        "def evaluate():\n",
        "  \n",
        "  print(\"\\nEvaluating...\")\n",
        "  \n",
        "  # deactivate dropout layers\n",
        "  model.eval()\n",
        "  t0 = time.time()\n",
        "  total_loss, total_accuracy = 0, 0\n",
        "  total_preds = []\n",
        "  count=0\n",
        "\n",
        "  # iterate over batches\n",
        "  for step,batch in enumerate(dev_dataloader):\n",
        "    \n",
        "    # Progress update every 50 batches.\n",
        "    if step % 50 == 0 and not step == 0:\n",
        "      \n",
        "      # Calculate elapsed time in minutes.\n",
        "      elapsed = format_time(time.time() - t0)\n",
        "            \n",
        "      # Report progress.\n",
        "      print('  Batch {:>5,}  of  {:>5,}.'.format(step, len(dev_dataloader)))\n",
        "\n",
        "    # push the batch to gpu\n",
        "    #batch = [t.to(device) for t in batch]\n",
        "    \n",
        "\n",
        "    sent_id, mask, labels = batch[0].to(device),batch[1].to(device),batch[2].to(device)\n",
        "\n",
        "    # deactivate autograd\n",
        "    with torch.no_grad():\n",
        "      \n",
        "      # model predictions\n",
        "      preds = model(sent_id, mask)\n",
        "\n",
        "      # compute the validation loss between actual and predicted values\n",
        "      loss = cross_entropy(preds,labels)\n",
        "\n",
        "      total_loss = total_loss + loss.item()\n",
        "\n",
        "      preds = preds.detach().cpu().numpy()\n",
        "      total_preds.append(preds)\n",
        "\n",
        "      true_class = np.argmax(preds,axis=1)\n",
        "      for myvar in range(len(labels)):\n",
        "        if labels[myvar]== true_class[myvar]:\n",
        "          count+=1\n",
        "\n",
        "  # compute the validation loss of the epoch\n",
        "  avg_loss = total_loss / len(dev_dataloader) \n",
        "\n",
        "  # reshape the predictions in form of (number of samples, no. of classes)\n",
        "  total_preds  = np.concatenate(total_preds, axis=0)\n",
        "  print(\"Validation accuracy\",count/(len(dev_dataloader)*batch_size))\n",
        "\n",
        "  return avg_loss, total_preds"
      ],
      "execution_count": null,
      "outputs": []
    },
    {
      "cell_type": "code",
      "metadata": {
        "colab": {
          "background_save": true,
          "base_uri": "https://localhost:8080/"
        },
        "id": "0zYQjbi4MZFz",
        "outputId": "395ee1ae-9ea1-4949-b248-f6d76a5ab048"
      },
      "source": [
        "best_valid_loss = float('inf')\n",
        "\n",
        "# empty lists to store training and validation loss of each epoch\n",
        "train_losses=[]\n",
        "valid_losses=[]\n",
        "\n",
        "#for each epoch\n",
        "for epoch in range(epochs):\n",
        "     \n",
        "    print('\\n Epoch {:} / {:}'.format(epoch + 1, epochs))\n",
        "    \n",
        "    #train model\n",
        "    train_loss = train()\n",
        "    \n",
        "    #evaluate model\n",
        "    valid_loss, _ = evaluate()\n",
        "    \n",
        "    #save the best model\n",
        "    if valid_loss < best_valid_loss:\n",
        "        best_valid_loss = valid_loss\n",
        "        torch.save(model.state_dict(), 'saved_weights.pt')\n",
        "    \n",
        "    # append training and validation loss\n",
        "    train_losses.append(train_loss)\n",
        "    valid_losses.append(valid_loss)\n",
        "    \n",
        "    print(f'\\nTraining Loss: {train_loss:.3f}')\n",
        "    print(f'Validation Loss: {valid_loss:.3f}')"
      ],
      "execution_count": null,
      "outputs": [
        {
          "output_type": "stream",
          "text": [
            "\n",
            " Epoch 1 / 10\n",
            "  Batch    50  of    728.\n",
            "loss 1.2580506801605225\n",
            "  Batch   100  of    728.\n",
            "loss 1.2362490892410278\n",
            "  Batch   150  of    728.\n",
            "loss 1.1422157287597656\n",
            "  Batch   200  of    728.\n",
            "loss 1.307981014251709\n",
            "  Batch   250  of    728.\n",
            "loss 1.0785303115844727\n",
            "  Batch   300  of    728.\n",
            "loss 1.1292082071304321\n",
            "  Batch   350  of    728.\n",
            "loss 1.2482842206954956\n",
            "  Batch   400  of    728.\n",
            "loss 1.1211516857147217\n",
            "  Batch   450  of    728.\n",
            "loss 1.1445361375808716\n",
            "  Batch   500  of    728.\n",
            "loss 1.1100049018859863\n",
            "  Batch   550  of    728.\n",
            "loss 1.2164679765701294\n",
            "  Batch   600  of    728.\n",
            "loss 1.0990663766860962\n",
            "  Batch   650  of    728.\n",
            "loss 1.15267014503479\n",
            "  Batch   700  of    728.\n",
            "loss 1.1828923225402832\n",
            "\n",
            "Evaluating...\n",
            "  Batch    50  of    182.\n",
            "  Batch   100  of    182.\n",
            "  Batch   150  of    182.\n",
            "Validation accuracy 0.5554601648351648\n",
            "\n",
            "Training Loss: 1.158\n",
            "Validation Loss: 1.093\n",
            "\n",
            " Epoch 2 / 10\n",
            "  Batch    50  of    728.\n",
            "loss 1.2087725400924683\n",
            "  Batch   100  of    728.\n",
            "loss 1.2990130186080933\n",
            "  Batch   150  of    728.\n",
            "loss 1.0930728912353516\n",
            "  Batch   200  of    728.\n",
            "loss 1.1523425579071045\n",
            "  Batch   250  of    728.\n",
            "loss 1.2230154275894165\n",
            "  Batch   300  of    728.\n",
            "loss 1.1622391939163208\n",
            "  Batch   350  of    728.\n",
            "loss 1.10614013671875\n",
            "  Batch   400  of    728.\n",
            "loss 1.0454516410827637\n",
            "  Batch   450  of    728.\n",
            "loss 0.9985622763633728\n",
            "  Batch   500  of    728.\n",
            "loss 1.1464743614196777\n",
            "  Batch   550  of    728.\n",
            "loss 1.1650264263153076\n",
            "  Batch   600  of    728.\n",
            "loss 1.126523494720459\n",
            "  Batch   650  of    728.\n",
            "loss 1.181895136833191\n",
            "  Batch   700  of    728.\n",
            "loss 1.0977836847305298\n",
            "\n",
            "Evaluating...\n",
            "  Batch    50  of    182.\n",
            "  Batch   100  of    182.\n",
            "  Batch   150  of    182.\n",
            "Validation accuracy 0.5667067307692307\n",
            "\n",
            "Training Loss: 1.110\n",
            "Validation Loss: 1.066\n",
            "\n",
            " Epoch 3 / 10\n",
            "  Batch    50  of    728.\n",
            "loss 1.2364822626113892\n",
            "  Batch   100  of    728.\n",
            "loss 1.1295289993286133\n",
            "  Batch   150  of    728.\n",
            "loss 1.2838395833969116\n",
            "  Batch   200  of    728.\n",
            "loss 0.9919606447219849\n",
            "  Batch   250  of    728.\n",
            "loss 0.9756743311882019\n",
            "  Batch   300  of    728.\n",
            "loss 1.2721012830734253\n",
            "  Batch   350  of    728.\n",
            "loss 1.1570135354995728\n",
            "  Batch   400  of    728.\n",
            "loss 1.0381968021392822\n",
            "  Batch   450  of    728.\n",
            "loss 1.0262216329574585\n",
            "  Batch   500  of    728.\n",
            "loss 1.084766149520874\n",
            "  Batch   550  of    728.\n",
            "loss 1.0426145792007446\n",
            "  Batch   600  of    728.\n",
            "loss 1.1491005420684814\n",
            "  Batch   650  of    728.\n",
            "loss 1.128195881843567\n",
            "  Batch   700  of    728.\n",
            "loss 0.999507486820221\n",
            "\n",
            "Evaluating...\n",
            "  Batch    50  of    182.\n",
            "  Batch   100  of    182.\n",
            "  Batch   150  of    182.\n",
            "Validation accuracy 0.5631868131868132\n",
            "\n",
            "Training Loss: 1.093\n",
            "Validation Loss: 1.051\n",
            "\n",
            " Epoch 4 / 10\n",
            "  Batch    50  of    728.\n",
            "loss 0.8848580718040466\n",
            "  Batch   100  of    728.\n",
            "loss 0.9536254405975342\n",
            "  Batch   150  of    728.\n",
            "loss 1.0609241724014282\n",
            "  Batch   200  of    728.\n",
            "loss 0.9852010607719421\n",
            "  Batch   250  of    728.\n",
            "loss 1.0099866390228271\n",
            "  Batch   300  of    728.\n",
            "loss 1.0165435075759888\n",
            "  Batch   350  of    728.\n",
            "loss 1.1320998668670654\n",
            "  Batch   400  of    728.\n",
            "loss 0.9140589237213135\n",
            "  Batch   450  of    728.\n",
            "loss 1.0819647312164307\n",
            "  Batch   500  of    728.\n",
            "loss 1.0516308546066284\n",
            "  Batch   550  of    728.\n",
            "loss 0.8704782128334045\n",
            "  Batch   600  of    728.\n",
            "loss 0.9802956581115723\n",
            "  Batch   650  of    728.\n",
            "loss 0.9469783902168274\n",
            "  Batch   700  of    728.\n",
            "loss 1.1434853076934814\n",
            "\n",
            "Evaluating...\n",
            "  Batch    50  of    182.\n",
            "  Batch   100  of    182.\n",
            "  Batch   150  of    182.\n",
            "Validation accuracy 0.5719436813186813\n",
            "\n",
            "Training Loss: 1.080\n",
            "Validation Loss: 1.045\n",
            "\n",
            " Epoch 5 / 10\n",
            "  Batch    50  of    728.\n",
            "loss 1.2017030715942383\n",
            "  Batch   100  of    728.\n",
            "loss 1.0556135177612305\n",
            "  Batch   150  of    728.\n",
            "loss 1.031091332435608\n",
            "  Batch   200  of    728.\n",
            "loss 0.9988070726394653\n",
            "  Batch   250  of    728.\n",
            "loss 1.207066535949707\n",
            "  Batch   300  of    728.\n",
            "loss 1.092842936515808\n",
            "  Batch   350  of    728.\n",
            "loss 1.0843737125396729\n",
            "  Batch   400  of    728.\n",
            "loss 1.1287072896957397\n",
            "  Batch   450  of    728.\n",
            "loss 1.1578013896942139\n",
            "  Batch   500  of    728.\n",
            "loss 0.9530813097953796\n",
            "  Batch   550  of    728.\n",
            "loss 1.087284803390503\n",
            "  Batch   600  of    728.\n",
            "loss 1.0798004865646362\n",
            "  Batch   650  of    728.\n",
            "loss 1.1933056116104126\n",
            "  Batch   700  of    728.\n",
            "loss 1.114653468132019\n",
            "\n",
            "Evaluating...\n",
            "  Batch    50  of    182.\n",
            "  Batch   100  of    182.\n",
            "  Batch   150  of    182.\n",
            "Validation accuracy 0.581301510989011\n",
            "\n",
            "Training Loss: 1.078\n",
            "Validation Loss: 1.076\n",
            "\n",
            " Epoch 6 / 10\n",
            "  Batch    50  of    728.\n",
            "loss 1.0364024639129639\n",
            "  Batch   100  of    728.\n",
            "loss 0.9028539061546326\n",
            "  Batch   150  of    728.\n",
            "loss 1.1561390161514282\n",
            "  Batch   200  of    728.\n",
            "loss 1.0805578231811523\n",
            "  Batch   250  of    728.\n",
            "loss 0.9674639105796814\n",
            "  Batch   300  of    728.\n",
            "loss 1.1001689434051514\n",
            "  Batch   350  of    728.\n",
            "loss 1.0629627704620361\n",
            "  Batch   400  of    728.\n",
            "loss 1.2328338623046875\n",
            "  Batch   450  of    728.\n",
            "loss 1.0497407913208008\n",
            "  Batch   500  of    728.\n",
            "loss 1.0000455379486084\n",
            "  Batch   550  of    728.\n",
            "loss 1.0596089363098145\n",
            "  Batch   600  of    728.\n",
            "loss 0.9394180178642273\n",
            "  Batch   650  of    728.\n",
            "loss 0.939513623714447\n",
            "  Batch   700  of    728.\n",
            "loss 1.1261183023452759\n",
            "\n",
            "Evaluating...\n",
            "  Batch    50  of    182.\n",
            "  Batch   100  of    182.\n",
            "  Batch   150  of    182.\n",
            "Validation accuracy 0.5722012362637363\n",
            "\n",
            "Training Loss: 1.074\n",
            "Validation Loss: 1.029\n",
            "\n",
            " Epoch 7 / 10\n",
            "  Batch    50  of    728.\n",
            "loss 1.1255093812942505\n",
            "  Batch   100  of    728.\n",
            "loss 1.0851742029190063\n",
            "  Batch   150  of    728.\n",
            "loss 1.174944281578064\n",
            "  Batch   200  of    728.\n",
            "loss 1.0794103145599365\n",
            "  Batch   250  of    728.\n",
            "loss 1.0776695013046265\n",
            "  Batch   300  of    728.\n",
            "loss 0.9445586800575256\n",
            "  Batch   350  of    728.\n",
            "loss 1.1743956804275513\n",
            "  Batch   400  of    728.\n",
            "loss 1.1666613817214966\n",
            "  Batch   450  of    728.\n",
            "loss 1.0243321657180786\n",
            "  Batch   500  of    728.\n",
            "loss 1.1161848306655884\n",
            "  Batch   550  of    728.\n",
            "loss 0.9886699318885803\n",
            "  Batch   600  of    728.\n",
            "loss 0.9298933744430542\n",
            "  Batch   650  of    728.\n",
            "loss 0.9319722056388855\n",
            "  Batch   700  of    728.\n",
            "loss 0.8102571964263916\n",
            "\n",
            "Evaluating...\n",
            "  Batch    50  of    182.\n",
            "  Batch   100  of    182.\n",
            "  Batch   150  of    182.\n",
            "Validation accuracy 0.5701407967032966\n",
            "\n",
            "Training Loss: 1.070\n",
            "Validation Loss: 1.041\n",
            "\n",
            " Epoch 8 / 10\n",
            "  Batch    50  of    728.\n",
            "loss 1.0323848724365234\n",
            "  Batch   100  of    728.\n",
            "loss 1.0165096521377563\n",
            "  Batch   150  of    728.\n",
            "loss 1.0417671203613281\n",
            "  Batch   200  of    728.\n",
            "loss 1.0121115446090698\n",
            "  Batch   250  of    728.\n",
            "loss 1.1131830215454102\n",
            "  Batch   300  of    728.\n",
            "loss 1.1420073509216309\n",
            "  Batch   350  of    728.\n",
            "loss 1.065614938735962\n",
            "  Batch   400  of    728.\n",
            "loss 1.2006170749664307\n",
            "  Batch   450  of    728.\n",
            "loss 0.9688014984130859\n",
            "  Batch   500  of    728.\n",
            "loss 1.0178581476211548\n",
            "  Batch   550  of    728.\n",
            "loss 0.8664078712463379\n",
            "  Batch   600  of    728.\n",
            "loss 1.1042449474334717\n",
            "  Batch   650  of    728.\n",
            "loss 1.1376070976257324\n",
            "  Batch   700  of    728.\n",
            "loss 0.9530091881752014\n",
            "\n",
            "Evaluating...\n",
            "  Batch    50  of    182.\n",
            "  Batch   100  of    182.\n",
            "  Batch   150  of    182.\n",
            "Validation accuracy 0.5721153846153846\n",
            "\n",
            "Training Loss: 1.067\n",
            "Validation Loss: 1.027\n",
            "\n",
            " Epoch 9 / 10\n",
            "  Batch    50  of    728.\n",
            "loss 1.0117859840393066\n",
            "  Batch   100  of    728.\n",
            "loss 1.0997003316879272\n",
            "  Batch   150  of    728.\n",
            "loss 0.8903253078460693\n",
            "  Batch   200  of    728.\n",
            "loss 0.9627848267555237\n",
            "  Batch   250  of    728.\n",
            "loss 1.1527912616729736\n",
            "  Batch   300  of    728.\n",
            "loss 0.9495048522949219\n",
            "  Batch   350  of    728.\n",
            "loss 1.1340776681900024\n",
            "  Batch   400  of    728.\n",
            "loss 1.1312365531921387\n",
            "  Batch   450  of    728.\n",
            "loss 1.0410839319229126\n",
            "  Batch   500  of    728.\n",
            "loss 1.1558949947357178\n",
            "  Batch   550  of    728.\n",
            "loss 1.1276516914367676\n",
            "  Batch   600  of    728.\n",
            "loss 0.9832408428192139\n",
            "  Batch   650  of    728.\n",
            "loss 1.0898926258087158\n",
            "  Batch   700  of    728.\n",
            "loss 1.0479240417480469\n",
            "\n",
            "Evaluating...\n",
            "  Batch    50  of    182.\n",
            "  Batch   100  of    182.\n",
            "  Batch   150  of    182.\n",
            "Validation accuracy 0.5843063186813187\n",
            "\n",
            "Training Loss: 1.065\n",
            "Validation Loss: 1.033\n",
            "\n",
            " Epoch 10 / 10\n",
            "  Batch    50  of    728.\n",
            "loss 1.3271799087524414\n",
            "  Batch   100  of    728.\n",
            "loss 1.0559780597686768\n",
            "  Batch   150  of    728.\n",
            "loss 1.0653456449508667\n",
            "  Batch   200  of    728.\n",
            "loss 1.0542722940444946\n",
            "  Batch   250  of    728.\n",
            "loss 1.36472749710083\n",
            "  Batch   300  of    728.\n",
            "loss 0.9626333713531494\n",
            "  Batch   350  of    728.\n",
            "loss 1.0554828643798828\n",
            "  Batch   400  of    728.\n",
            "loss 1.1387429237365723\n",
            "  Batch   450  of    728.\n",
            "loss 1.0039979219436646\n",
            "  Batch   500  of    728.\n",
            "loss 1.2037932872772217\n",
            "  Batch   550  of    728.\n",
            "loss 1.0522831678390503\n",
            "  Batch   600  of    728.\n",
            "loss 0.968580961227417\n",
            "  Batch   650  of    728.\n",
            "loss 1.1757436990737915\n",
            "  Batch   700  of    728.\n",
            "loss 1.047506332397461\n",
            "\n",
            "Evaluating...\n",
            "  Batch    50  of    182.\n"
          ],
          "name": "stdout"
        },
        {
          "output_type": "error",
          "ename": "KeyboardInterrupt",
          "evalue": "ignored",
          "traceback": [
            "\u001b[0;31m---------------------------------------------------------------------------\u001b[0m",
            "\u001b[0;31mKeyboardInterrupt\u001b[0m                         Traceback (most recent call last)",
            "\u001b[0;32m<ipython-input-49-508905871e94>\u001b[0m in \u001b[0;36m<module>\u001b[0;34m()\u001b[0m\n\u001b[1;32m     14\u001b[0m \u001b[0;34m\u001b[0m\u001b[0m\n\u001b[1;32m     15\u001b[0m     \u001b[0;31m#evaluate model\u001b[0m\u001b[0;34m\u001b[0m\u001b[0;34m\u001b[0m\u001b[0;34m\u001b[0m\u001b[0m\n\u001b[0;32m---> 16\u001b[0;31m     \u001b[0mvalid_loss\u001b[0m\u001b[0;34m,\u001b[0m \u001b[0m_\u001b[0m \u001b[0;34m=\u001b[0m \u001b[0mevaluate\u001b[0m\u001b[0;34m(\u001b[0m\u001b[0;34m)\u001b[0m\u001b[0;34m\u001b[0m\u001b[0;34m\u001b[0m\u001b[0m\n\u001b[0m\u001b[1;32m     17\u001b[0m \u001b[0;34m\u001b[0m\u001b[0m\n\u001b[1;32m     18\u001b[0m     \u001b[0;31m#save the best model\u001b[0m\u001b[0;34m\u001b[0m\u001b[0;34m\u001b[0m\u001b[0;34m\u001b[0m\u001b[0m\n",
            "\u001b[0;32m<ipython-input-48-d0e09e9925d7>\u001b[0m in \u001b[0;36mevaluate\u001b[0;34m()\u001b[0m\n\u001b[1;32m     11\u001b[0m \u001b[0;34m\u001b[0m\u001b[0m\n\u001b[1;32m     12\u001b[0m   \u001b[0;31m# iterate over batches\u001b[0m\u001b[0;34m\u001b[0m\u001b[0;34m\u001b[0m\u001b[0;34m\u001b[0m\u001b[0m\n\u001b[0;32m---> 13\u001b[0;31m   \u001b[0;32mfor\u001b[0m \u001b[0mstep\u001b[0m\u001b[0;34m,\u001b[0m\u001b[0mbatch\u001b[0m \u001b[0;32min\u001b[0m \u001b[0menumerate\u001b[0m\u001b[0;34m(\u001b[0m\u001b[0mdev_dataloader\u001b[0m\u001b[0;34m)\u001b[0m\u001b[0;34m:\u001b[0m\u001b[0;34m\u001b[0m\u001b[0;34m\u001b[0m\u001b[0m\n\u001b[0m\u001b[1;32m     14\u001b[0m \u001b[0;34m\u001b[0m\u001b[0m\n\u001b[1;32m     15\u001b[0m     \u001b[0;31m# Progress update every 50 batches.\u001b[0m\u001b[0;34m\u001b[0m\u001b[0;34m\u001b[0m\u001b[0;34m\u001b[0m\u001b[0m\n",
            "\u001b[0;32m/usr/local/lib/python3.6/dist-packages/torch/utils/data/dataloader.py\u001b[0m in \u001b[0;36m__next__\u001b[0;34m(self)\u001b[0m\n\u001b[1;32m    433\u001b[0m         \u001b[0;32mif\u001b[0m \u001b[0mself\u001b[0m\u001b[0;34m.\u001b[0m\u001b[0m_sampler_iter\u001b[0m \u001b[0;32mis\u001b[0m \u001b[0;32mNone\u001b[0m\u001b[0;34m:\u001b[0m\u001b[0;34m\u001b[0m\u001b[0;34m\u001b[0m\u001b[0m\n\u001b[1;32m    434\u001b[0m             \u001b[0mself\u001b[0m\u001b[0;34m.\u001b[0m\u001b[0m_reset\u001b[0m\u001b[0;34m(\u001b[0m\u001b[0;34m)\u001b[0m\u001b[0;34m\u001b[0m\u001b[0;34m\u001b[0m\u001b[0m\n\u001b[0;32m--> 435\u001b[0;31m         \u001b[0mdata\u001b[0m \u001b[0;34m=\u001b[0m \u001b[0mself\u001b[0m\u001b[0;34m.\u001b[0m\u001b[0m_next_data\u001b[0m\u001b[0;34m(\u001b[0m\u001b[0;34m)\u001b[0m\u001b[0;34m\u001b[0m\u001b[0;34m\u001b[0m\u001b[0m\n\u001b[0m\u001b[1;32m    436\u001b[0m         \u001b[0mself\u001b[0m\u001b[0;34m.\u001b[0m\u001b[0m_num_yielded\u001b[0m \u001b[0;34m+=\u001b[0m \u001b[0;36m1\u001b[0m\u001b[0;34m\u001b[0m\u001b[0;34m\u001b[0m\u001b[0m\n\u001b[1;32m    437\u001b[0m         \u001b[0;32mif\u001b[0m \u001b[0mself\u001b[0m\u001b[0;34m.\u001b[0m\u001b[0m_dataset_kind\u001b[0m \u001b[0;34m==\u001b[0m \u001b[0m_DatasetKind\u001b[0m\u001b[0;34m.\u001b[0m\u001b[0mIterable\u001b[0m \u001b[0;32mand\u001b[0m\u001b[0;31m \u001b[0m\u001b[0;31m\\\u001b[0m\u001b[0;34m\u001b[0m\u001b[0;34m\u001b[0m\u001b[0m\n",
            "\u001b[0;32m/usr/local/lib/python3.6/dist-packages/torch/utils/data/dataloader.py\u001b[0m in \u001b[0;36m_next_data\u001b[0;34m(self)\u001b[0m\n\u001b[1;32m    473\u001b[0m     \u001b[0;32mdef\u001b[0m \u001b[0m_next_data\u001b[0m\u001b[0;34m(\u001b[0m\u001b[0mself\u001b[0m\u001b[0;34m)\u001b[0m\u001b[0;34m:\u001b[0m\u001b[0;34m\u001b[0m\u001b[0;34m\u001b[0m\u001b[0m\n\u001b[1;32m    474\u001b[0m         \u001b[0mindex\u001b[0m \u001b[0;34m=\u001b[0m \u001b[0mself\u001b[0m\u001b[0;34m.\u001b[0m\u001b[0m_next_index\u001b[0m\u001b[0;34m(\u001b[0m\u001b[0;34m)\u001b[0m  \u001b[0;31m# may raise StopIteration\u001b[0m\u001b[0;34m\u001b[0m\u001b[0;34m\u001b[0m\u001b[0m\n\u001b[0;32m--> 475\u001b[0;31m         \u001b[0mdata\u001b[0m \u001b[0;34m=\u001b[0m \u001b[0mself\u001b[0m\u001b[0;34m.\u001b[0m\u001b[0m_dataset_fetcher\u001b[0m\u001b[0;34m.\u001b[0m\u001b[0mfetch\u001b[0m\u001b[0;34m(\u001b[0m\u001b[0mindex\u001b[0m\u001b[0;34m)\u001b[0m  \u001b[0;31m# may raise StopIteration\u001b[0m\u001b[0;34m\u001b[0m\u001b[0;34m\u001b[0m\u001b[0m\n\u001b[0m\u001b[1;32m    476\u001b[0m         \u001b[0;32mif\u001b[0m \u001b[0mself\u001b[0m\u001b[0;34m.\u001b[0m\u001b[0m_pin_memory\u001b[0m\u001b[0;34m:\u001b[0m\u001b[0;34m\u001b[0m\u001b[0;34m\u001b[0m\u001b[0m\n\u001b[1;32m    477\u001b[0m             \u001b[0mdata\u001b[0m \u001b[0;34m=\u001b[0m \u001b[0m_utils\u001b[0m\u001b[0;34m.\u001b[0m\u001b[0mpin_memory\u001b[0m\u001b[0;34m.\u001b[0m\u001b[0mpin_memory\u001b[0m\u001b[0;34m(\u001b[0m\u001b[0mdata\u001b[0m\u001b[0;34m)\u001b[0m\u001b[0;34m\u001b[0m\u001b[0;34m\u001b[0m\u001b[0m\n",
            "\u001b[0;32m/usr/local/lib/python3.6/dist-packages/torch/utils/data/_utils/fetch.py\u001b[0m in \u001b[0;36mfetch\u001b[0;34m(self, possibly_batched_index)\u001b[0m\n\u001b[1;32m     42\u001b[0m     \u001b[0;32mdef\u001b[0m \u001b[0mfetch\u001b[0m\u001b[0;34m(\u001b[0m\u001b[0mself\u001b[0m\u001b[0;34m,\u001b[0m \u001b[0mpossibly_batched_index\u001b[0m\u001b[0;34m)\u001b[0m\u001b[0;34m:\u001b[0m\u001b[0;34m\u001b[0m\u001b[0;34m\u001b[0m\u001b[0m\n\u001b[1;32m     43\u001b[0m         \u001b[0;32mif\u001b[0m \u001b[0mself\u001b[0m\u001b[0;34m.\u001b[0m\u001b[0mauto_collation\u001b[0m\u001b[0;34m:\u001b[0m\u001b[0;34m\u001b[0m\u001b[0;34m\u001b[0m\u001b[0m\n\u001b[0;32m---> 44\u001b[0;31m             \u001b[0mdata\u001b[0m \u001b[0;34m=\u001b[0m \u001b[0;34m[\u001b[0m\u001b[0mself\u001b[0m\u001b[0;34m.\u001b[0m\u001b[0mdataset\u001b[0m\u001b[0;34m[\u001b[0m\u001b[0midx\u001b[0m\u001b[0;34m]\u001b[0m \u001b[0;32mfor\u001b[0m \u001b[0midx\u001b[0m \u001b[0;32min\u001b[0m \u001b[0mpossibly_batched_index\u001b[0m\u001b[0;34m]\u001b[0m\u001b[0;34m\u001b[0m\u001b[0;34m\u001b[0m\u001b[0m\n\u001b[0m\u001b[1;32m     45\u001b[0m         \u001b[0;32melse\u001b[0m\u001b[0;34m:\u001b[0m\u001b[0;34m\u001b[0m\u001b[0;34m\u001b[0m\u001b[0m\n\u001b[1;32m     46\u001b[0m             \u001b[0mdata\u001b[0m \u001b[0;34m=\u001b[0m \u001b[0mself\u001b[0m\u001b[0;34m.\u001b[0m\u001b[0mdataset\u001b[0m\u001b[0;34m[\u001b[0m\u001b[0mpossibly_batched_index\u001b[0m\u001b[0;34m]\u001b[0m\u001b[0;34m\u001b[0m\u001b[0;34m\u001b[0m\u001b[0m\n",
            "\u001b[0;32m/usr/local/lib/python3.6/dist-packages/torch/utils/data/_utils/fetch.py\u001b[0m in \u001b[0;36m<listcomp>\u001b[0;34m(.0)\u001b[0m\n\u001b[1;32m     42\u001b[0m     \u001b[0;32mdef\u001b[0m \u001b[0mfetch\u001b[0m\u001b[0;34m(\u001b[0m\u001b[0mself\u001b[0m\u001b[0;34m,\u001b[0m \u001b[0mpossibly_batched_index\u001b[0m\u001b[0;34m)\u001b[0m\u001b[0;34m:\u001b[0m\u001b[0;34m\u001b[0m\u001b[0;34m\u001b[0m\u001b[0m\n\u001b[1;32m     43\u001b[0m         \u001b[0;32mif\u001b[0m \u001b[0mself\u001b[0m\u001b[0;34m.\u001b[0m\u001b[0mauto_collation\u001b[0m\u001b[0;34m:\u001b[0m\u001b[0;34m\u001b[0m\u001b[0;34m\u001b[0m\u001b[0m\n\u001b[0;32m---> 44\u001b[0;31m             \u001b[0mdata\u001b[0m \u001b[0;34m=\u001b[0m \u001b[0;34m[\u001b[0m\u001b[0mself\u001b[0m\u001b[0;34m.\u001b[0m\u001b[0mdataset\u001b[0m\u001b[0;34m[\u001b[0m\u001b[0midx\u001b[0m\u001b[0;34m]\u001b[0m \u001b[0;32mfor\u001b[0m \u001b[0midx\u001b[0m \u001b[0;32min\u001b[0m \u001b[0mpossibly_batched_index\u001b[0m\u001b[0;34m]\u001b[0m\u001b[0;34m\u001b[0m\u001b[0;34m\u001b[0m\u001b[0m\n\u001b[0m\u001b[1;32m     45\u001b[0m         \u001b[0;32melse\u001b[0m\u001b[0;34m:\u001b[0m\u001b[0;34m\u001b[0m\u001b[0;34m\u001b[0m\u001b[0m\n\u001b[1;32m     46\u001b[0m             \u001b[0mdata\u001b[0m \u001b[0;34m=\u001b[0m \u001b[0mself\u001b[0m\u001b[0;34m.\u001b[0m\u001b[0mdataset\u001b[0m\u001b[0;34m[\u001b[0m\u001b[0mpossibly_batched_index\u001b[0m\u001b[0;34m]\u001b[0m\u001b[0;34m\u001b[0m\u001b[0;34m\u001b[0m\u001b[0m\n",
            "\u001b[0;32m/usr/local/lib/python3.6/dist-packages/torch/utils/data/dataset.py\u001b[0m in \u001b[0;36m__getitem__\u001b[0;34m(self, index)\u001b[0m\n\u001b[1;32m    168\u001b[0m \u001b[0;34m\u001b[0m\u001b[0m\n\u001b[1;32m    169\u001b[0m     \u001b[0;32mdef\u001b[0m \u001b[0m__getitem__\u001b[0m\u001b[0;34m(\u001b[0m\u001b[0mself\u001b[0m\u001b[0;34m,\u001b[0m \u001b[0mindex\u001b[0m\u001b[0;34m)\u001b[0m\u001b[0;34m:\u001b[0m\u001b[0;34m\u001b[0m\u001b[0;34m\u001b[0m\u001b[0m\n\u001b[0;32m--> 170\u001b[0;31m         \u001b[0;32mreturn\u001b[0m \u001b[0mtuple\u001b[0m\u001b[0;34m(\u001b[0m\u001b[0mtensor\u001b[0m\u001b[0;34m[\u001b[0m\u001b[0mindex\u001b[0m\u001b[0;34m]\u001b[0m \u001b[0;32mfor\u001b[0m \u001b[0mtensor\u001b[0m \u001b[0;32min\u001b[0m \u001b[0mself\u001b[0m\u001b[0;34m.\u001b[0m\u001b[0mtensors\u001b[0m\u001b[0;34m)\u001b[0m\u001b[0;34m\u001b[0m\u001b[0;34m\u001b[0m\u001b[0m\n\u001b[0m\u001b[1;32m    171\u001b[0m \u001b[0;34m\u001b[0m\u001b[0m\n\u001b[1;32m    172\u001b[0m     \u001b[0;32mdef\u001b[0m \u001b[0m__len__\u001b[0m\u001b[0;34m(\u001b[0m\u001b[0mself\u001b[0m\u001b[0;34m)\u001b[0m\u001b[0;34m:\u001b[0m\u001b[0;34m\u001b[0m\u001b[0;34m\u001b[0m\u001b[0m\n",
            "\u001b[0;32m/usr/local/lib/python3.6/dist-packages/torch/utils/data/dataset.py\u001b[0m in \u001b[0;36m<genexpr>\u001b[0;34m(.0)\u001b[0m\n\u001b[1;32m    168\u001b[0m \u001b[0;34m\u001b[0m\u001b[0m\n\u001b[1;32m    169\u001b[0m     \u001b[0;32mdef\u001b[0m \u001b[0m__getitem__\u001b[0m\u001b[0;34m(\u001b[0m\u001b[0mself\u001b[0m\u001b[0;34m,\u001b[0m \u001b[0mindex\u001b[0m\u001b[0;34m)\u001b[0m\u001b[0;34m:\u001b[0m\u001b[0;34m\u001b[0m\u001b[0;34m\u001b[0m\u001b[0m\n\u001b[0;32m--> 170\u001b[0;31m         \u001b[0;32mreturn\u001b[0m \u001b[0mtuple\u001b[0m\u001b[0;34m(\u001b[0m\u001b[0mtensor\u001b[0m\u001b[0;34m[\u001b[0m\u001b[0mindex\u001b[0m\u001b[0;34m]\u001b[0m \u001b[0;32mfor\u001b[0m \u001b[0mtensor\u001b[0m \u001b[0;32min\u001b[0m \u001b[0mself\u001b[0m\u001b[0;34m.\u001b[0m\u001b[0mtensors\u001b[0m\u001b[0;34m)\u001b[0m\u001b[0;34m\u001b[0m\u001b[0;34m\u001b[0m\u001b[0m\n\u001b[0m\u001b[1;32m    171\u001b[0m \u001b[0;34m\u001b[0m\u001b[0m\n\u001b[1;32m    172\u001b[0m     \u001b[0;32mdef\u001b[0m \u001b[0m__len__\u001b[0m\u001b[0;34m(\u001b[0m\u001b[0mself\u001b[0m\u001b[0;34m)\u001b[0m\u001b[0;34m:\u001b[0m\u001b[0;34m\u001b[0m\u001b[0;34m\u001b[0m\u001b[0m\n",
            "\u001b[0;31mKeyboardInterrupt\u001b[0m: "
          ]
        }
      ]
    },
    {
      "cell_type": "code",
      "metadata": {
        "id": "PbDYymf1HM7U"
      },
      "source": [
        "!pip install \"tensorflow>=1.7.0\"\n",
        "!pip install tensorflow-hub"
      ],
      "execution_count": null,
      "outputs": []
    },
    {
      "cell_type": "code",
      "metadata": {
        "id": "0b4t9gReAEUm"
      },
      "source": [
        "import tensorflow_hub as hub\n",
        "import tensorflow as tf"
      ],
      "execution_count": null,
      "outputs": []
    },
    {
      "cell_type": "code",
      "metadata": {
        "id": "xqthikkIACGJ"
      },
      "source": [
        "\n",
        "tf.compat.v1.disable_eager_execution()\n",
        "url = \"https://tfhub.dev/google/elmo/3\"\n",
        "embed =hub.Module(url)"
      ],
      "execution_count": null,
      "outputs": []
    },
    {
      "cell_type": "code",
      "metadata": {
        "id": "ZPmymblsundU"
      },
      "source": [
        "list_train = [pro_corpus_train[i:i+10] for i in range(0,pro_corpus_train.shape[0],10)]"
      ],
      "execution_count": null,
      "outputs": []
    },
    {
      "cell_type": "code",
      "metadata": {
        "id": "i0Afy-p1zcft"
      },
      "source": [
        "print(len(list_train[0]))"
      ],
      "execution_count": null,
      "outputs": []
    },
    {
      "cell_type": "code",
      "metadata": {
        "id": "H9D3N2GpvyC5"
      },
      "source": [
        "def elmo_vectors(x):\n",
        "  embeddings = embed(x, signature=\"default\", as_dict=True)[\"elmo\"]\n",
        "\n",
        "  with tf.compat.v1.Session() as sess:\n",
        "    sess.run(tf.compat.v1.global_variables_initializer())\n",
        "    sess.run(tf.compat.v1.tables_initializer())\n",
        "    # return average of ELMo features\n",
        "    return sess.run(tf.reduce_mean(embeddings,1))"
      ],
      "execution_count": null,
      "outputs": []
    },
    {
      "cell_type": "code",
      "metadata": {
        "id": "BvrVl9goxa_A"
      },
      "source": [
        "elmo_train = [elmo_vectors(x) for x in list_train]"
      ],
      "execution_count": null,
      "outputs": []
    }
  ]
}