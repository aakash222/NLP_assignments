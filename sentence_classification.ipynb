{
  "nbformat": 4,
  "nbformat_minor": 0,
  "metadata": {
    "colab": {
      "name": "averagemodel.ipynb",
      "provenance": [],
      "collapsed_sections": []
    },
    "kernelspec": {
      "name": "python3",
      "display_name": "Python 3"
    },
    "accelerator": "GPU"
  },
  "cells": [
    {
      "cell_type": "code",
      "metadata": {
        "id": "aiLHeKSDIF-S"
      },
      "source": [
        "import keras\n",
        "from keras.models import Sequential\n",
        "from keras.regularizers import l2\n",
        "from keras.optimizers import Adam\n",
        "from keras.layers import Dense"
      ],
      "execution_count": null,
      "outputs": []
    },
    {
      "cell_type": "code",
      "metadata": {
        "id": "SqwD0iOYDkw3",
        "colab": {
          "base_uri": "https://localhost:8080/"
        },
        "outputId": "b9b0be6e-b4d8-43e4-d77e-5ee14b898e20"
      },
      "source": [
        "import pandas as pd\n",
        "import numpy as np\n",
        "import nltk\n",
        "import re\n",
        "from nltk.stem import WordNetLemmatizer\n",
        "nltk.download('wordnet')\n",
        "nltk.download('stopwords')"
      ],
      "execution_count": null,
      "outputs": [
        {
          "output_type": "stream",
          "text": [
            "[nltk_data] Downloading package wordnet to /root/nltk_data...\n",
            "[nltk_data]   Unzipping corpora/wordnet.zip.\n",
            "[nltk_data] Downloading package stopwords to /root/nltk_data...\n",
            "[nltk_data]   Unzipping corpora/stopwords.zip.\n"
          ],
          "name": "stdout"
        },
        {
          "output_type": "execute_result",
          "data": {
            "text/plain": [
              "True"
            ]
          },
          "metadata": {
            "tags": []
          },
          "execution_count": 2
        }
      ]
    },
    {
      "cell_type": "code",
      "metadata": {
        "id": "2gwEWOk3Fzes"
      },
      "source": [
        "#### loading word2vec embeddings trained on GoogleNews data by google #######\n",
        "from gensim.models import Word2Vec\n",
        "import gensim\n",
        "model = gensim.models.KeyedVectors.load_word2vec_format('/content/drive/My Drive/GoogleNews-vectors-negative300.bin (1).gz', binary = True)"
      ],
      "execution_count": null,
      "outputs": []
    },
    {
      "cell_type": "code",
      "metadata": {
        "id": "RcEbqhJB4wYk",
        "colab": {
          "base_uri": "https://localhost:8080/"
        },
        "outputId": "20828272-7dab-405e-ec99-2f3f3143c6ea"
      },
      "source": [
        "#### extracting the vocabulary \n",
        "vocabulary = model.vocab\n",
        "print(len(vocabulary))"
      ],
      "execution_count": null,
      "outputs": [
        {
          "output_type": "stream",
          "text": [
            "3000000\n"
          ],
          "name": "stdout"
        }
      ]
    },
    {
      "cell_type": "code",
      "metadata": {
        "id": "Qducz1JwFlgR"
      },
      "source": [
        "##### basic preprocessing of text data #####\n",
        "\n",
        "wpt = nltk.WordPunctTokenizer()\n",
        "stop_words = nltk.corpus.stopwords.words('english')\n",
        "def normalize_document(doc):\n",
        "\n",
        "    # lower case and remove special characters\\whitespaces\n",
        "    doc = re.sub(r'[^a-zA-Z\\s]', '', doc, re.I|re.A)\n",
        "    doc = doc.lower()\n",
        "    doc = doc.strip()\n",
        "    doc = doc.replace('\"',\"\")\n",
        "\n",
        "    # tokenize document\n",
        "    tokens = wpt.tokenize(doc)\n",
        "\n",
        "    # filter stopwords out of document\n",
        "    filtered_tokens = [token for token in tokens]\n",
        "\n",
        "    # re-create document from filtered tokens\n",
        "    return filtered_tokens\n",
        "\n"
      ],
      "execution_count": null,
      "outputs": []
    },
    {
      "cell_type": "code",
      "metadata": {
        "id": "dkRuVnBVFMSJ"
      },
      "source": [
        "EMB_SIZE = 300\n",
        "test_size = .20\n",
        "ds = \"TREC\""
      ],
      "execution_count": null,
      "outputs": []
    },
    {
      "cell_type": "code",
      "metadata": {
        "id": "3LQjy2K4FRos",
        "colab": {
          "base_uri": "https://localhost:8080/",
          "height": 91
        },
        "outputId": "0b7c0df5-21a3-4cdd-b868-5fe5dcc7a49d"
      },
      "source": [
        "f1 = open(\"/content/drive/My Drive/dlnlp-2/\"+ds+\".x.train.txt\",\"rb\")\n",
        "sst_1_train_X = list()\n",
        "print()\n",
        "for line in f1:\n",
        "  sst_1_train_X.append(line.decode('latin-1'))\n",
        "f1.close()\n",
        "corpus_train = np.array(sst_1_train_X)\n",
        "\n",
        "'''f1 = open(\"/content/drive/My Drive/dlnlp-2/\"+ds+\".x.dev.txt\",\"rb\")\n",
        "sst_1_dev_X = list()\n",
        "print()\n",
        "for line in f1:\n",
        "  temp = line.decode('latin-1')\n",
        "  if len(temp)>2:\n",
        "    sst_1_dev_X.append(temp)\n",
        "f1.close()\n",
        "corpus_dev = np.array(sst_1_dev_X)\n",
        "'''\n",
        "\n",
        "f1 = open(\"/content/drive/My Drive/dlnlp-2/\"+ds+\".y.train.txt\")\n",
        "labels_train = []\n",
        "for line in f1:\n",
        "  labels_train.append(line.split(\"\\n\")[0])\n",
        "print(len(labels_train))\n",
        "f1.close()\n",
        "\n",
        "'''f1 = open(\"/content/drive/My Drive/dlnlp-2/\"+ds+\".y.dev.txt\")\n",
        "labels_dev = []\n",
        "for line in f1:\n",
        "  labels_dev.append(line.split(\"\\n\")[0])\n",
        "print(len(labels_dev))\n",
        "f1.close()\n",
        "'''"
      ],
      "execution_count": null,
      "outputs": [
        {
          "output_type": "stream",
          "text": [
            "\n",
            "5452\n"
          ],
          "name": "stdout"
        },
        {
          "output_type": "execute_result",
          "data": {
            "application/vnd.google.colaboratory.intrinsic+json": {
              "type": "string"
            },
            "text/plain": [
              "'f1 = open(\"/content/drive/My Drive/dlnlp-2/\"+ds+\".y.dev.txt\")\\nlabels_dev = []\\nfor line in f1:\\n  labels_dev.append(line.split(\"\\n\")[0])\\nprint(len(labels_dev))\\nf1.close()\\n'"
            ]
          },
          "metadata": {
            "tags": []
          },
          "execution_count": 7
        }
      ]
    },
    {
      "cell_type": "code",
      "metadata": {
        "id": "2bN6T3-3uvL7"
      },
      "source": [
        "print(len(corpus_train))\r\n",
        "print(corpus_train[30:50])"
      ],
      "execution_count": null,
      "outputs": []
    },
    {
      "cell_type": "code",
      "metadata": {
        "id": "0rr9lcVViPig",
        "colab": {
          "base_uri": "https://localhost:8080/"
        },
        "outputId": "d46c843b-4e7e-450d-e8bf-5b30eba04430"
      },
      "source": [
        "##### trian test split of data\n",
        "from sklearn.model_selection import train_test_split\n",
        "corpus_train, corpus_dev, labels_train, labels_dev = train_test_split(corpus_train,labels_train,test_size=test_size)\n",
        "print(len(corpus_train))\n",
        "print(len(corpus_dev))"
      ],
      "execution_count": null,
      "outputs": [
        {
          "output_type": "stream",
          "text": [
            "4361\n",
            "1091\n"
          ],
          "name": "stdout"
        }
      ]
    },
    {
      "cell_type": "code",
      "metadata": {
        "id": "2nhwhvDEenjK",
        "colab": {
          "base_uri": "https://localhost:8080/"
        },
        "outputId": "7de45130-374b-445b-f147-3f6bf4af55de"
      },
      "source": [
        "##### mapping text labels to integers\n",
        "print(labels_dev[:50])\n",
        "print(labels_train[:10])\n",
        "#for SST-1\n",
        "'''\n",
        "label_to_int = {'VERY NEG':0, 'NEG':1, 'NEU':2, 'POS':3, 'VERY POS':4}\n",
        "int_to_label = {0:'VERY NEG', 1:'NEG', 2:'NEU', 3:'POS', 4:'VERY POS'}'''\n",
        "\n",
        "#for SST-2, MR and CR\n",
        "'''\n",
        "label_to_int = {'NEG':0, 'POS':1}\n",
        "int_to_label = {0:'NEG',  1:'POS'}'''\n",
        "\n",
        "#for MPQA and Subj\n",
        "'''\n",
        "label_to_int = {'OBJ':0, 'SUBJ':1}\n",
        "int_to_label = {0:'OBJ',  1:'SUBJ'}'''\n",
        "\n",
        "#for TREC\n",
        "\n",
        "label_to_int = {'LOC':0, 'NUM':1, 'HUM':2, 'DESC':3, 'ENTY':4, 'ABBR':5}\n",
        "int_to_label = {0:'LOC', 1:'NUM', 2:'HUM', 3:'DESC', 4:'ENTY', 5:'ABBR'}\n",
        "\n",
        "\n",
        "\n",
        "train_y = np.array([label_to_int[i] for i in labels_train])\n",
        "dev_y = np.array([label_to_int[i] for i in labels_dev])"
      ],
      "execution_count": null,
      "outputs": [
        {
          "output_type": "stream",
          "text": [
            "['LOC', 'HUM', 'DESC', 'ABBR', 'ENTY', 'DESC', 'ENTY', 'NUM', 'ENTY', 'NUM', 'LOC', 'NUM', 'NUM', 'LOC', 'HUM', 'HUM', 'LOC', 'DESC', 'HUM', 'ENTY', 'NUM', 'NUM', 'ENTY', 'ENTY', 'HUM', 'DESC', 'LOC', 'HUM', 'HUM', 'ENTY', 'DESC', 'ENTY', 'DESC', 'ENTY', 'LOC', 'DESC', 'LOC', 'ENTY', 'ENTY', 'HUM', 'NUM', 'DESC', 'HUM', 'ENTY', 'NUM', 'NUM', 'DESC', 'DESC', 'NUM', 'LOC']\n",
            "['NUM', 'NUM', 'LOC', 'DESC', 'ENTY', 'ABBR', 'ENTY', 'ENTY', 'DESC', 'HUM']\n"
          ],
          "name": "stdout"
        }
      ]
    },
    {
      "cell_type": "code",
      "metadata": {
        "id": "YWV7V3bpFgan",
        "colab": {
          "base_uri": "https://localhost:8080/"
        },
        "outputId": "2960ddbd-99c1-464a-db22-c755d2ecae1b"
      },
      "source": [
        "print(len(corpus_train))\n",
        "print(len(corpus_dev))"
      ],
      "execution_count": null,
      "outputs": [
        {
          "output_type": "stream",
          "text": [
            "4361\n",
            "1091\n"
          ],
          "name": "stdout"
        }
      ]
    },
    {
      "cell_type": "code",
      "metadata": {
        "id": "52LU-utZFqFk"
      },
      "source": [
        "#### applying basic preprocessing on text\n",
        "pro_corpus_train = [] \n",
        "for sentence in corpus_train:\n",
        "  pro_corpus_train.append(normalize_document(sentence))\n",
        "\n",
        "pro_corpus_dev = [] \n",
        "for sentence in corpus_dev:\n",
        "  pro_corpus_dev.append(normalize_document(sentence))\n",
        "\n",
        "pro_corpus_train = np.array(pro_corpus_train)\n",
        "pro_corpus_dev = np.array(pro_corpus_dev)"
      ],
      "execution_count": null,
      "outputs": []
    },
    {
      "cell_type": "code",
      "metadata": {
        "id": "Pvh23unAFu0D",
        "colab": {
          "base_uri": "https://localhost:8080/"
        },
        "outputId": "9977b66b-0a74-4657-b4ca-6e723474598e"
      },
      "source": [
        "print(type(pro_corpus_train[8]),type(pro_corpus_train[8][1]))\n",
        "print(pro_corpus_train[:9])"
      ],
      "execution_count": null,
      "outputs": [
        {
          "output_type": "stream",
          "text": [
            "<class 'list'> <class 'str'>\n",
            "[list(['how', 'many', 'children', 'under', 'are', 'victims', 'of', 'some', 'sort', 'of', 'physical', 'abuse', 'each', 'year'])\n",
            " list(['when', 'did', 'the', 'royal', 'wedding', 'of', 'prince', 'andrew', 'and', 'fergie', 'take', 'place'])\n",
            " list(['what', 'is', 'the', 'richest', 'state', 'in', 'the', 'us'])\n",
            " list(['what', 'makes', 'a', 'clitoris', 'sensitive'])\n",
            " list(['what', 'was', 'the', 'distinguishing', 'mark', 'on', 'the', 'little', 'rascals', 'dog'])\n",
            " list(['what', 'does', 'shield', 'stand', 'for'])\n",
            " list(['what', 'is', 'the', 'best', 'way', 'to', 'remove', 'wallpaper'])\n",
            " list(['what', 'did', 'benny', 'carter', 'play'])\n",
            " list(['what', 'is', 'the', 'origin', 'of', 'the', 'word', 'magic'])]\n"
          ],
          "name": "stdout"
        }
      ]
    },
    {
      "cell_type": "code",
      "metadata": {
        "id": "lm2NIE89G97g",
        "colab": {
          "base_uri": "https://localhost:8080/"
        },
        "outputId": "e358c893-ec7d-41e9-fb27-a59fcd04be4c"
      },
      "source": [
        "###### extracting embedding for the sentences by averaging word2Vec embeddings of word\n",
        "sentence_emb_train = []\n",
        "default_emb= np.random.normal(loc = 0.0, scale=1.0, size=EMB_SIZE)\n",
        "for sentence in pro_corpus_train:\n",
        "  if len(sentence)<1:\n",
        "    sentence_emb_train.append(default_emb)\n",
        "    continue\n",
        "  temp = []\n",
        "  for word in sentence:\n",
        "    if word in vocabulary:\n",
        "      temp.append(model[word])\n",
        "    else:\n",
        "      temp.append(default_emb)\n",
        "  sentence_emb_train.append(np.average(temp,axis=0))\n",
        "sentence_emb_train = np.array(sentence_emb_train)\n",
        "print(sentence_emb_train.shape)\n",
        "\n",
        "sentence_emb_dev = []\n",
        "for sentence in pro_corpus_dev:\n",
        "  if len(sentence)<1:\n",
        "    sentence_emb_dev.append(default_emb)\n",
        "    continue\n",
        "  temp = []\n",
        "  for word in sentence:\n",
        "    if word in vocabulary:\n",
        "      temp.append(model[word])\n",
        "    else:\n",
        "      temp.append(default_emb)\n",
        "  sentence_emb_dev.append(np.average(temp,axis=0))\n",
        "sentence_emb_dev = np.array(sentence_emb_dev)\n",
        "\n",
        "print(sentence_emb_train.shape)\n",
        "print(sentence_emb_dev.shape)"
      ],
      "execution_count": null,
      "outputs": [
        {
          "output_type": "stream",
          "text": [
            "(4361, 300)\n",
            "(4361, 300)\n",
            "(1091, 300)\n"
          ],
          "name": "stdout"
        }
      ]
    },
    {
      "cell_type": "code",
      "metadata": {
        "id": "aGa0Rd6iIalu",
        "colab": {
          "base_uri": "https://localhost:8080/"
        },
        "outputId": "d63acabc-06ab-4118-fde7-d5dbbf5c1048"
      },
      "source": [
        "np.random.seed(42)\n",
        "nnmodel = Sequential()\n",
        "nnmodel.add(Dense(64,input_shape = (EMB_SIZE,),activation = \"relu\",kernel_initializer = 'normal', kernel_regularizer=l2(0.0001)))\n",
        "nnmodel.add(Dense(16,activation = \"relu\",kernel_initializer = 'normal', kernel_regularizer=l2(.0001)))\n",
        "nnmodel.add(Dense(6,activation = \"softmax\",kernel_initializer = 'normal'))\n",
        "\n",
        "opt = keras.optimizers.Adam(learning_rate=0.0002)\n",
        "nnmodel.compile(loss = 'sparse_categorical_crossentropy',optimizer = opt, metrics= ['accuracy'])\n",
        "nnmodel.summary()"
      ],
      "execution_count": null,
      "outputs": [
        {
          "output_type": "stream",
          "text": [
            "Model: \"sequential_3\"\n",
            "_________________________________________________________________\n",
            "Layer (type)                 Output Shape              Param #   \n",
            "=================================================================\n",
            "dense_9 (Dense)              (None, 64)                19264     \n",
            "_________________________________________________________________\n",
            "dense_10 (Dense)             (None, 16)                1040      \n",
            "_________________________________________________________________\n",
            "dense_11 (Dense)             (None, 6)                 102       \n",
            "=================================================================\n",
            "Total params: 20,406\n",
            "Trainable params: 20,406\n",
            "Non-trainable params: 0\n",
            "_________________________________________________________________\n"
          ],
          "name": "stdout"
        }
      ]
    },
    {
      "cell_type": "code",
      "metadata": {
        "id": "gwMVtgQVIjUp",
        "colab": {
          "base_uri": "https://localhost:8080/"
        },
        "outputId": "0293d06b-6290-4bcd-b902-89bc6caad06a"
      },
      "source": [
        "print(sentence_emb_train.shape,train_y.shape,sentence_emb_dev.shape,dev_y.shape)\n",
        "history = nnmodel.fit(sentence_emb_train, train_y, epochs=60, validation_data = (sentence_emb_dev,dev_y),batch_size = 32)"
      ],
      "execution_count": null,
      "outputs": [
        {
          "output_type": "stream",
          "text": [
            "(4361, 300) (4361,) (1091, 300) (1091,)\n",
            "Train on 4361 samples, validate on 1091 samples\n",
            "Epoch 1/60\n",
            "4361/4361 [==============================] - 0s 68us/sample - loss: 0.6163 - accuracy: 0.7828 - val_loss: 0.6635 - val_accuracy: 0.7699\n",
            "Epoch 2/60\n",
            "4361/4361 [==============================] - 0s 68us/sample - loss: 0.6144 - accuracy: 0.7824 - val_loss: 0.6666 - val_accuracy: 0.7571\n",
            "Epoch 3/60\n",
            "4361/4361 [==============================] - 0s 69us/sample - loss: 0.6139 - accuracy: 0.7847 - val_loss: 0.6608 - val_accuracy: 0.7589\n",
            "Epoch 4/60\n",
            "4361/4361 [==============================] - 0s 66us/sample - loss: 0.6135 - accuracy: 0.7815 - val_loss: 0.6617 - val_accuracy: 0.7663\n",
            "Epoch 5/60\n",
            "4361/4361 [==============================] - 0s 65us/sample - loss: 0.6140 - accuracy: 0.7838 - val_loss: 0.6650 - val_accuracy: 0.7681\n",
            "Epoch 6/60\n",
            "4361/4361 [==============================] - 0s 67us/sample - loss: 0.6126 - accuracy: 0.7828 - val_loss: 0.6613 - val_accuracy: 0.7672\n",
            "Epoch 7/60\n",
            "4361/4361 [==============================] - 0s 69us/sample - loss: 0.6089 - accuracy: 0.7824 - val_loss: 0.6667 - val_accuracy: 0.7608\n",
            "Epoch 8/60\n",
            "4361/4361 [==============================] - 0s 64us/sample - loss: 0.6059 - accuracy: 0.7856 - val_loss: 0.6654 - val_accuracy: 0.7626\n",
            "Epoch 9/60\n",
            "4361/4361 [==============================] - 0s 67us/sample - loss: 0.6065 - accuracy: 0.7865 - val_loss: 0.6596 - val_accuracy: 0.7626\n",
            "Epoch 10/60\n",
            "4361/4361 [==============================] - 0s 66us/sample - loss: 0.6056 - accuracy: 0.7884 - val_loss: 0.6614 - val_accuracy: 0.7690\n",
            "Epoch 11/60\n",
            "4361/4361 [==============================] - 0s 65us/sample - loss: 0.6022 - accuracy: 0.7867 - val_loss: 0.6595 - val_accuracy: 0.7599\n",
            "Epoch 12/60\n",
            "4361/4361 [==============================] - 0s 67us/sample - loss: 0.6022 - accuracy: 0.7877 - val_loss: 0.6653 - val_accuracy: 0.7644\n",
            "Epoch 13/60\n",
            "4361/4361 [==============================] - 0s 68us/sample - loss: 0.6011 - accuracy: 0.7884 - val_loss: 0.6599 - val_accuracy: 0.7681\n",
            "Epoch 14/60\n",
            "4361/4361 [==============================] - 0s 68us/sample - loss: 0.6008 - accuracy: 0.7881 - val_loss: 0.6605 - val_accuracy: 0.7644\n",
            "Epoch 15/60\n",
            "4361/4361 [==============================] - 0s 66us/sample - loss: 0.5980 - accuracy: 0.7913 - val_loss: 0.6575 - val_accuracy: 0.7681\n",
            "Epoch 16/60\n",
            "4361/4361 [==============================] - 0s 71us/sample - loss: 0.5986 - accuracy: 0.7922 - val_loss: 0.6720 - val_accuracy: 0.7589\n",
            "Epoch 17/60\n",
            "4361/4361 [==============================] - 0s 67us/sample - loss: 0.5962 - accuracy: 0.7897 - val_loss: 0.6548 - val_accuracy: 0.7718\n",
            "Epoch 18/60\n",
            "4361/4361 [==============================] - 0s 66us/sample - loss: 0.5942 - accuracy: 0.7881 - val_loss: 0.6596 - val_accuracy: 0.7654\n",
            "Epoch 19/60\n",
            "4361/4361 [==============================] - 0s 66us/sample - loss: 0.5978 - accuracy: 0.7920 - val_loss: 0.6570 - val_accuracy: 0.7635\n",
            "Epoch 20/60\n",
            "4361/4361 [==============================] - 0s 71us/sample - loss: 0.5965 - accuracy: 0.7902 - val_loss: 0.6584 - val_accuracy: 0.7663\n",
            "Epoch 21/60\n",
            "4361/4361 [==============================] - 0s 65us/sample - loss: 0.5941 - accuracy: 0.7893 - val_loss: 0.6577 - val_accuracy: 0.7745\n",
            "Epoch 22/60\n",
            "4361/4361 [==============================] - 0s 65us/sample - loss: 0.5913 - accuracy: 0.7925 - val_loss: 0.6608 - val_accuracy: 0.7562\n",
            "Epoch 23/60\n",
            "4361/4361 [==============================] - 0s 68us/sample - loss: 0.5911 - accuracy: 0.7906 - val_loss: 0.6584 - val_accuracy: 0.7626\n",
            "Epoch 24/60\n",
            "4361/4361 [==============================] - 0s 68us/sample - loss: 0.5882 - accuracy: 0.7922 - val_loss: 0.6658 - val_accuracy: 0.7681\n",
            "Epoch 25/60\n",
            "4361/4361 [==============================] - 0s 67us/sample - loss: 0.5881 - accuracy: 0.7927 - val_loss: 0.6567 - val_accuracy: 0.7727\n",
            "Epoch 26/60\n",
            "4361/4361 [==============================] - 0s 67us/sample - loss: 0.5883 - accuracy: 0.7902 - val_loss: 0.6584 - val_accuracy: 0.7663\n",
            "Epoch 27/60\n",
            "4361/4361 [==============================] - 0s 66us/sample - loss: 0.5857 - accuracy: 0.7904 - val_loss: 0.6566 - val_accuracy: 0.7718\n",
            "Epoch 28/60\n",
            "4361/4361 [==============================] - 0s 67us/sample - loss: 0.5860 - accuracy: 0.7939 - val_loss: 0.6642 - val_accuracy: 0.7681\n",
            "Epoch 29/60\n",
            "4361/4361 [==============================] - 0s 66us/sample - loss: 0.5849 - accuracy: 0.7927 - val_loss: 0.6601 - val_accuracy: 0.7681\n",
            "Epoch 30/60\n",
            "4361/4361 [==============================] - 0s 67us/sample - loss: 0.5824 - accuracy: 0.7973 - val_loss: 0.6581 - val_accuracy: 0.7626\n",
            "Epoch 31/60\n",
            "4361/4361 [==============================] - 0s 66us/sample - loss: 0.5838 - accuracy: 0.7964 - val_loss: 0.6647 - val_accuracy: 0.7654\n",
            "Epoch 32/60\n",
            "4361/4361 [==============================] - 0s 67us/sample - loss: 0.5814 - accuracy: 0.7927 - val_loss: 0.6659 - val_accuracy: 0.7654\n",
            "Epoch 33/60\n",
            "4361/4361 [==============================] - 0s 66us/sample - loss: 0.5826 - accuracy: 0.7957 - val_loss: 0.6685 - val_accuracy: 0.7599\n",
            "Epoch 34/60\n",
            "4361/4361 [==============================] - 0s 65us/sample - loss: 0.5796 - accuracy: 0.7971 - val_loss: 0.6546 - val_accuracy: 0.7681\n",
            "Epoch 35/60\n",
            "4361/4361 [==============================] - 0s 66us/sample - loss: 0.5775 - accuracy: 0.7955 - val_loss: 0.6542 - val_accuracy: 0.7699\n",
            "Epoch 36/60\n",
            "4361/4361 [==============================] - 0s 65us/sample - loss: 0.5800 - accuracy: 0.7943 - val_loss: 0.6692 - val_accuracy: 0.7617\n",
            "Epoch 37/60\n",
            "4361/4361 [==============================] - 0s 67us/sample - loss: 0.5784 - accuracy: 0.7927 - val_loss: 0.6622 - val_accuracy: 0.7580\n",
            "Epoch 38/60\n",
            "4361/4361 [==============================] - 0s 66us/sample - loss: 0.5758 - accuracy: 0.7973 - val_loss: 0.6581 - val_accuracy: 0.7681\n",
            "Epoch 39/60\n",
            "4361/4361 [==============================] - 0s 64us/sample - loss: 0.5751 - accuracy: 0.7966 - val_loss: 0.6533 - val_accuracy: 0.7754\n",
            "Epoch 40/60\n",
            "4361/4361 [==============================] - 0s 67us/sample - loss: 0.5732 - accuracy: 0.8017 - val_loss: 0.6557 - val_accuracy: 0.7672\n",
            "Epoch 41/60\n",
            "4361/4361 [==============================] - 0s 67us/sample - loss: 0.5744 - accuracy: 0.7952 - val_loss: 0.6569 - val_accuracy: 0.7727\n",
            "Epoch 42/60\n",
            "4361/4361 [==============================] - 0s 72us/sample - loss: 0.5699 - accuracy: 0.7991 - val_loss: 0.6590 - val_accuracy: 0.7663\n",
            "Epoch 43/60\n",
            "4361/4361 [==============================] - 0s 69us/sample - loss: 0.5720 - accuracy: 0.8012 - val_loss: 0.6641 - val_accuracy: 0.7654\n",
            "Epoch 44/60\n",
            "4361/4361 [==============================] - 0s 68us/sample - loss: 0.5715 - accuracy: 0.7982 - val_loss: 0.6566 - val_accuracy: 0.7718\n",
            "Epoch 45/60\n",
            "4361/4361 [==============================] - 0s 66us/sample - loss: 0.5721 - accuracy: 0.7973 - val_loss: 0.6634 - val_accuracy: 0.7626\n",
            "Epoch 46/60\n",
            "4361/4361 [==============================] - 0s 65us/sample - loss: 0.5710 - accuracy: 0.7991 - val_loss: 0.6552 - val_accuracy: 0.7617\n",
            "Epoch 47/60\n",
            "4361/4361 [==============================] - 0s 70us/sample - loss: 0.5689 - accuracy: 0.7980 - val_loss: 0.6558 - val_accuracy: 0.7709\n",
            "Epoch 48/60\n",
            "4361/4361 [==============================] - 0s 67us/sample - loss: 0.5686 - accuracy: 0.8010 - val_loss: 0.6586 - val_accuracy: 0.7626\n",
            "Epoch 49/60\n",
            "4361/4361 [==============================] - 0s 68us/sample - loss: 0.5671 - accuracy: 0.7994 - val_loss: 0.6597 - val_accuracy: 0.7663\n",
            "Epoch 50/60\n",
            "4361/4361 [==============================] - 0s 70us/sample - loss: 0.5656 - accuracy: 0.8000 - val_loss: 0.6518 - val_accuracy: 0.7727\n",
            "Epoch 51/60\n",
            "4361/4361 [==============================] - 0s 67us/sample - loss: 0.5654 - accuracy: 0.8033 - val_loss: 0.6618 - val_accuracy: 0.7663\n",
            "Epoch 52/60\n",
            "4361/4361 [==============================] - 0s 66us/sample - loss: 0.5676 - accuracy: 0.8037 - val_loss: 0.6705 - val_accuracy: 0.7553\n",
            "Epoch 53/60\n",
            "4361/4361 [==============================] - 0s 69us/sample - loss: 0.5643 - accuracy: 0.8030 - val_loss: 0.6601 - val_accuracy: 0.7672\n",
            "Epoch 54/60\n",
            "4361/4361 [==============================] - 0s 67us/sample - loss: 0.5619 - accuracy: 0.8021 - val_loss: 0.6533 - val_accuracy: 0.7754\n",
            "Epoch 55/60\n",
            "4361/4361 [==============================] - 0s 65us/sample - loss: 0.5621 - accuracy: 0.8051 - val_loss: 0.6533 - val_accuracy: 0.7736\n",
            "Epoch 56/60\n",
            "4361/4361 [==============================] - 0s 66us/sample - loss: 0.5609 - accuracy: 0.8010 - val_loss: 0.6523 - val_accuracy: 0.7791\n",
            "Epoch 57/60\n",
            "4361/4361 [==============================] - 0s 66us/sample - loss: 0.5603 - accuracy: 0.8051 - val_loss: 0.6563 - val_accuracy: 0.7709\n",
            "Epoch 58/60\n",
            "4361/4361 [==============================] - 0s 66us/sample - loss: 0.5607 - accuracy: 0.8021 - val_loss: 0.6627 - val_accuracy: 0.7699\n",
            "Epoch 59/60\n",
            "4361/4361 [==============================] - 0s 68us/sample - loss: 0.5610 - accuracy: 0.8019 - val_loss: 0.6580 - val_accuracy: 0.7681\n",
            "Epoch 60/60\n",
            "4361/4361 [==============================] - 0s 69us/sample - loss: 0.5579 - accuracy: 0.8026 - val_loss: 0.6552 - val_accuracy: 0.7754\n"
          ],
          "name": "stdout"
        }
      ]
    },
    {
      "cell_type": "code",
      "metadata": {
        "id": "CcT7-_tuJt3_",
        "colab": {
          "base_uri": "https://localhost:8080/"
        },
        "outputId": "c7f2ec1d-e14d-4cb7-c3aa-78d1645cb8cf"
      },
      "source": [
        "dev_pred = nnmodel.predict(sentence_emb_dev)\n",
        "print(dev_pred.shape)\n",
        "class_pred = []\n",
        "for vec in dev_pred:\n",
        "  class_pred.append(np.argmax(vec))\n",
        "\n",
        "i=0\n",
        "count = 0\n",
        "for pred in class_pred:\n",
        "  if pred==dev_y[i]:\n",
        "    count+=1\n",
        "  i+=1\n",
        "print(count/len(class_pred))"
      ],
      "execution_count": null,
      "outputs": [
        {
          "output_type": "stream",
          "text": [
            "(872, 2)\n",
            "0.801605504587156\n"
          ],
          "name": "stdout"
        }
      ]
    },
    {
      "cell_type": "code",
      "metadata": {
        "id": "q4tElR-nk-vc",
        "colab": {
          "base_uri": "https://localhost:8080/",
          "height": 283
        },
        "outputId": "7340937f-9b4f-474e-d5fb-ad6dbb5b894c"
      },
      "source": [
        "import matplotlib.pyplot as plt\n",
        "plt.plot(history.history['loss'])\n",
        "plt.plot(history.history['val_loss'])"
      ],
      "execution_count": null,
      "outputs": [
        {
          "output_type": "execute_result",
          "data": {
            "text/plain": [
              "[<matplotlib.lines.Line2D at 0x7f592af05390>]"
            ]
          },
          "metadata": {
            "tags": []
          },
          "execution_count": 137
        },
        {
          "output_type": "display_data",
          "data": {
            "image/png": "[encoded data removed]",
            "text/plain": [
              "<Figure size 432x288 with 1 Axes>"
            ]
          },
          "metadata": {
            "tags": [],
            "needs_background": "light"
          }
        }
      ]
    },
    {
      "cell_type": "code",
      "metadata": {
        "id": "G2AYFMUrL200",
        "colab": {
          "base_uri": "https://localhost:8080/"
        },
        "outputId": "5aedcbc7-6c8d-4e91-8ee6-b861d1d4cdfd"
      },
      "source": [
        "##### applying trained model on test data and getting outputs\n",
        "f1 = open(\"/content/drive/My Drive/dlnlp-2/\"+ds+\".x.test.txt\",\"rb\")\n",
        "sst_1_test_X = list()\n",
        "print()\n",
        "for line in f1:\n",
        "  sst_1_test_X.append(line.decode('latin-1'))\n",
        "f1.close()\n",
        "corpus_test = np.array(sst_1_test_X)\n",
        "\n",
        "\n",
        "pro_corpus_test = [] \n",
        "for sentence in corpus_test:\n",
        "  pro_corpus_test.append(normalize_document(sentence))\n",
        "print(len(pro_corpus_test))\n",
        "\n",
        "sentence_emb_test = []\n",
        "for sentence in pro_corpus_test:\n",
        "  if len(sentence)<1:\n",
        "    sentence_emb_test.append(default_emb)\n",
        "    continue\n",
        "  temp = []\n",
        "  for word in sentence:\n",
        "    if word in vocabulary:\n",
        "      temp.append(model[word])\n",
        "    else:\n",
        "      temp.append(default_emb)\n",
        "  sentence_emb_test.append(np.average(temp,axis=0))\n",
        "sentence_emb_test = np.array(sentence_emb_test)\n",
        "print(sentence_emb_test.shape)\n",
        "\n",
        "test_pred = nnmodel.predict(sentence_emb_test)\n",
        "print(test_pred.shape)\n",
        "class_pred = []\n",
        "for vec in test_pred:\n",
        "  class_pred.append(int_to_label[np.argmax(vec)])\n",
        "\n",
        "print(class_pred[:20])\n",
        "np.savetxt(\"16705.\"+ds+\".averagemodel.y.test.txt\",class_pred,fmt=\"%s\")"
      ],
      "execution_count": null,
      "outputs": [
        {
          "output_type": "stream",
          "text": [
            "\n",
            "1000\n",
            "(1000, 300)\n",
            "(1000, 2)\n",
            "['OBJ', 'OBJ', 'OBJ', 'SUBJ', 'OBJ', 'SUBJ', 'SUBJ', 'SUBJ', 'OBJ', 'SUBJ', 'SUBJ', 'SUBJ', 'SUBJ', 'OBJ', 'OBJ', 'OBJ', 'OBJ', 'OBJ', 'OBJ', 'OBJ']\n"
          ],
          "name": "stdout"
        }
      ]
    },
    {
      "cell_type": "code",
      "metadata": {
        "id": "ucrt6XCT6rqQ",
        "colab": {
          "base_uri": "https://localhost:8080/"
        },
        "outputId": "163a3c94-a61b-443e-8309-f90b45c5e8ff"
      },
      "source": [
        ""
      ],
      "execution_count": null,
      "outputs": [
        {
          "output_type": "stream",
          "text": [
            "['NEG', 'POS', 'VERY POS', 'NEG', 'POS', 'POS', 'NEG', 'POS', 'NEG', 'POS', 'NEG', 'VERY POS', 'VERY POS', 'POS', 'POS', 'NEG', 'POS', 'NEG', 'POS', 'NEG', 'POS', 'NEG', 'POS', 'POS', 'NEG', 'NEG', 'POS', 'NEG', 'POS', 'VERY NEG']\n"
          ],
          "name": "stdout"
        }
      ]
    },
    {
      "cell_type": "code",
      "metadata": {
        "id": "ypFEZf_UsVAU"
      },
      "source": [
        "np.savetxt(\"17049.CR.averagemodel.y.test.txt\",class_pred,fmt=\"%s\")"
      ],
      "execution_count": null,
      "outputs": []
    },
    {
      "cell_type": "code",
      "metadata": {
        "id": "oGenjaDipcyT",
        "colab": {
          "base_uri": "https://localhost:8080/"
        },
        "outputId": "3274d9ac-3a85-4f1c-9f28-92a7e36c44bb"
      },
      "source": [
        "f1 = open(\"/content/drive/My Drive/upload/16570.TREC.charagram.y.test.txt\")\n",
        "labels_train = []\n",
        "for line in f1:\n",
        "  labels_train.append(line.split(\"\\n\")[0])\n",
        "print(len(labels_train))\n",
        "print(labels_train[:20])\n",
        "f1.close()"
      ],
      "execution_count": null,
      "outputs": [
        {
          "output_type": "stream",
          "text": [
            "500\n",
            "['NUM', 'LOC', 'HUM', 'DESC', 'NUM', 'NUM', 'ENTY', 'LOC', 'DESC', 'DESC', 'LOC', 'HUM', 'NUM', 'HUM', 'NUM', 'NUM', 'ENTY', 'HUM', 'DESC', 'NUM']\n"
          ],
          "name": "stdout"
        }
      ]
    },
    {
      "cell_type": "markdown",
      "metadata": {
        "id": "M3hi2LqVsUcB"
      },
      "source": [
        ""
      ]
    }
  ]
}